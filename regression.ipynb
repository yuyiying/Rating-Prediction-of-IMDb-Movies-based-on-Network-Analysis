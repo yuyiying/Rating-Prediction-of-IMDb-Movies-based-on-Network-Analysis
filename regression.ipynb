{
 "cells": [
  {
   "cell_type": "code",
   "execution_count": 4,
   "metadata": {
    "collapsed": false
   },
   "outputs": [],
   "source": [
    "Test_set = data.frame(read.table( file(\"/Users/zhimingzhuang/tests.txt\"), header = FALSE ))\n",
    "Train_set = data.frame(read.table( file(\"/Users/zhimingzhuang/features.txt\"), header = FALSE ))\n",
    "Train_rate = data.frame(read.table( file(\"/Users/zhimingzhuang/labels.txt\"), header = FALSE ))"
   ]
  },
  {
   "cell_type": "markdown",
   "metadata": {
    "collapsed": true
   },
   "source": [
    "tmp[[1]]"
   ]
  },
  {
   "cell_type": "code",
   "execution_count": 40,
   "metadata": {
    "collapsed": false
   },
   "outputs": [
    {
     "data": {
      "text/html": [
       "107"
      ],
      "text/latex": [
       "107"
      ],
      "text/markdown": [
       "107"
      ],
      "text/plain": [
       "[1] 107"
      ]
     },
     "execution_count": 40,
     "metadata": {},
     "output_type": "execute_result"
    },
    {
     "data": {
      "text/html": [
       "40585"
      ],
      "text/latex": [
       "40585"
      ],
      "text/markdown": [
       "40585"
      ],
      "text/plain": [
       "[1] 40585"
      ]
     },
     "execution_count": 40,
     "metadata": {},
     "output_type": "execute_result"
    }
   ],
   "source": [
    "Train <- cbind(Train_set, Train_rate)\n",
    "ncol(Train)\n",
    "\n",
    "colnames(Train)[107] <- \"Rate\"\n",
    "Train <- subset(Train, Rate != 0)"
   ]
  },
  {
   "cell_type": "code",
   "execution_count": 27,
   "metadata": {
    "collapsed": false
   },
   "outputs": [
    {
     "name": "stderr",
     "output_type": "stream",
     "text": [
      "Loading required package: lattice\n",
      "Loading required package: ggplot2\n"
     ]
    }
   ],
   "source": [
    "not.installed <- function(pkg) !is.element(pkg, installed.packages()[,1])\n",
    "    \n",
    "if (not.installed(\"caret\")) install.packages(\"caret\", repos=\"http://cran.us.r-project.org\")\n",
    "\n",
    "library(caret)"
   ]
  },
  {
   "cell_type": "code",
   "execution_count": 41,
   "metadata": {
    "collapsed": false
   },
   "outputs": [
    {
     "name": "stderr",
     "output_type": "stream",
     "text": [
      "Warning message:\n",
      "In predict.lm(modelFit, newdata): prediction from a rank-deficient fit may be misleadingWarning message:\n",
      "In predict.lm(modelFit, newdata): prediction from a rank-deficient fit may be misleadingWarning message:\n",
      "In predict.lm(modelFit, newdata): prediction from a rank-deficient fit may be misleadingWarning message:\n",
      "In predict.lm(modelFit, newdata): prediction from a rank-deficient fit may be misleadingWarning message:\n",
      "In predict.lm(modelFit, newdata): prediction from a rank-deficient fit may be misleadingWarning message:\n",
      "In predict.lm(modelFit, newdata): prediction from a rank-deficient fit may be misleadingWarning message:\n",
      "In predict.lm(modelFit, newdata): prediction from a rank-deficient fit may be misleadingWarning message:\n",
      "In predict.lm(modelFit, newdata): prediction from a rank-deficient fit may be misleadingWarning message:\n",
      "In predict.lm(modelFit, newdata): prediction from a rank-deficient fit may be misleadingWarning message:\n",
      "In predict.lm(modelFit, newdata): prediction from a rank-deficient fit may be misleading"
     ]
    },
    {
     "name": "stdout",
     "output_type": "stream",
     "text": [
      "Linear Regression \n",
      "\n",
      "40585 samples\n",
      "  106 predictor\n",
      "\n",
      "No pre-processing\n",
      "Resampling: Cross-Validated (10 fold, repeated 1 times) \n",
      "Summary of sample sizes: 36527, 36527, 36526, 36526, 36526, 36527, ... \n",
      "Resampling results\n",
      "\n",
      "  RMSE      Rsquared    RMSE SD     Rsquared SD\n",
      "  1.088212  0.03413304  0.01125909  0.003438413\n",
      "\n",
      " \n"
     ]
    }
   ],
   "source": [
    "set.seed(204593426)\n",
    "ctrl <- trainControl(method = \"repeatedcv\", number = 10, repeats = 1)\n",
    "\n",
    "model <- train(Rate~., data = Train, method = \"lm\", trControl = ctrl)\n",
    "print(model)"
   ]
  },
  {
   "cell_type": "code",
   "execution_count": 44,
   "metadata": {
    "collapsed": false
   },
   "outputs": [
    {
     "name": "stderr",
     "output_type": "stream",
     "text": [
      "Warning message:\n",
      "In predict.lm(modelFit, newdata): prediction from a rank-deficient fit may be misleading"
     ]
    },
    {
     "data": {
      "text/html": [
       "<ol class=list-inline>\n",
       "\t<li>6.04099550114833</li>\n",
       "\t<li>6.08015266902339</li>\n",
       "\t<li>6.14427383720032</li>\n",
       "</ol>\n"
      ],
      "text/latex": [
       "\\begin{enumerate*}\n",
       "\\item 6.04099550114833\n",
       "\\item 6.08015266902339\n",
       "\\item 6.14427383720032\n",
       "\\end{enumerate*}\n"
      ],
      "text/markdown": [
       "1. 6.04099550114833\n",
       "2. 6.08015266902339\n",
       "3. 6.14427383720032\n",
       "\n",
       "\n"
      ],
      "text/plain": [
       "[1] 6.040996 6.080153 6.144274"
      ]
     },
     "execution_count": 44,
     "metadata": {},
     "output_type": "execute_result"
    }
   ],
   "source": [
    "Testy <- predict(model,  Test_set)\n",
    "Testy"
   ]
  },
  {
   "cell_type": "code",
   "execution_count": 45,
   "metadata": {
    "collapsed": false
   },
   "outputs": [
    {
     "name": "stderr",
     "output_type": "stream",
     "text": [
      "Loading required package: kernlab\n",
      "\n",
      "Attaching package: ‘kernlab’\n",
      "\n",
      "The following object is masked from ‘package:ggplot2’:\n",
      "\n",
      "    alpha\n",
      "\n",
      "Warning message:\n",
      "In .local(x, ...): Variable(s) `' constant. Cannot scale data.Warning message:\n",
      "In .local(x, ...): Variable(s) `' constant. Cannot scale data.Warning message:\n",
      "In .local(x, ...): Variable(s) `' constant. Cannot scale data.Warning message:\n",
      "In .local(x, ...): Variable(s) `' constant. Cannot scale data.Warning message:\n",
      "In .local(x, ...): Variable(s) `' constant. Cannot scale data.Warning message:\n",
      "In .local(x, ...): Variable(s) `' constant. Cannot scale data.Warning message:\n",
      "In .local(x, ...): Variable(s) `' constant. Cannot scale data.Warning message:\n",
      "In .local(x, ...): Variable(s) `' constant. Cannot scale data.Warning message:\n",
      "In .local(x, ...): Variable(s) `' constant. Cannot scale data.Warning message:\n",
      "In .local(x, ...): Variable(s) `' constant. Cannot scale data.Warning message:\n",
      "In .local(x, ...): Variable(s) `' constant. Cannot scale data.Warning message:\n",
      "In .local(x, ...): Variable(s) `' constant. Cannot scale data.Warning message:\n",
      "In .local(x, ...): Variable(s) `' constant. Cannot scale data.Warning message:\n",
      "In .local(x, ...): Variable(s) `' constant. Cannot scale data.Warning message:\n",
      "In .local(x, ...): Variable(s) `' constant. Cannot scale data.Warning message:\n",
      "In .local(x, ...): Variable(s) `' constant. Cannot scale data.Warning message:\n",
      "In .local(x, ...): Variable(s) `' constant. Cannot scale data.Warning message:\n",
      "In .local(x, ...): Variable(s) `' constant. Cannot scale data.Warning message:\n",
      "In .local(x, ...): Variable(s) `' constant. Cannot scale data.Warning message:\n",
      "In .local(x, ...): Variable(s) `' constant. Cannot scale data.Warning message:\n",
      "In .local(x, ...): Variable(s) `' constant. Cannot scale data.Warning message:\n",
      "In .local(x, ...): Variable(s) `' constant. Cannot scale data.Warning message:\n",
      "In .local(x, ...): Variable(s) `' constant. Cannot scale data.Warning message:\n",
      "In .local(x, ...): Variable(s) `' constant. Cannot scale data.Warning message:\n",
      "In .local(x, ...): Variable(s) `' constant. Cannot scale data.Warning message:\n",
      "In .local(x, ...): Variable(s) `' constant. Cannot scale data.Warning message:\n",
      "In .local(x, ...): Variable(s) `' constant. Cannot scale data.Warning message:\n",
      "In .local(x, ...): Variable(s) `' constant. Cannot scale data.Warning message:\n",
      "In .local(x, ...): Variable(s) `' constant. Cannot scale data.Warning message:\n",
      "In .local(x, ...): Variable(s) `' constant. Cannot scale data.Warning message:\n",
      "In .local(x, ...): Variable(s) `' constant. Cannot scale data.Warning message:\n",
      "In .local(x, ...): Variable(s) `' constant. Cannot scale data."
     ]
    },
    {
     "name": "stdout",
     "output_type": "stream",
     "text": [
      "Support Vector Machines with Radial Basis Function Kernel \n",
      "\n",
      "40585 samples\n",
      "  106 predictor\n",
      "\n",
      "No pre-processing\n",
      "Resampling: Cross-Validated (10 fold, repeated 1 times) \n",
      "Summary of sample sizes: 36527, 36527, 36526, 36526, 36526, 36527, ... \n",
      "Resampling results across tuning parameters:\n",
      "\n",
      "  C     RMSE      Rsquared    RMSE SD     Rsquared SD\n",
      "  0.25  1.086219  0.04479890  0.01130564  0.006039927\n",
      "  0.50  1.086493  0.04438026  0.01140353  0.006007143\n",
      "  1.00  1.087691  0.04307075  0.01117217  0.006050234\n",
      "\n",
      "Tuning parameter 'sigma' was held constant at a value of 1192535524\n",
      "RMSE was used to select the optimal model using  the smallest value.\n",
      "The final values used for the model were sigma = 1192535524 and C = 0.25. \n"
     ]
    }
   ],
   "source": [
    "set.seed(204593426)\n",
    "ctrl <- trainControl(method = \"repeatedcv\", number = 10, repeats = 1)\n",
    "\n",
    "model <- train(Rate~., data = Train, method = \"svmRadial\", trControl = ctrl)\n",
    "print(model)"
   ]
  },
  {
   "cell_type": "code",
   "execution_count": 46,
   "metadata": {
    "collapsed": false
   },
   "outputs": [
    {
     "data": {
      "text/html": [
       "<ol class=list-inline>\n",
       "\t<li>6.15563827445252</li>\n",
       "\t<li>6.30737217172965</li>\n",
       "\t<li>6.25074065428122</li>\n",
       "</ol>\n"
      ],
      "text/latex": [
       "\\begin{enumerate*}\n",
       "\\item 6.15563827445252\n",
       "\\item 6.30737217172965\n",
       "\\item 6.25074065428122\n",
       "\\end{enumerate*}\n"
      ],
      "text/markdown": [
       "1. 6.15563827445252\n",
       "2. 6.30737217172965\n",
       "3. 6.25074065428122\n",
       "\n",
       "\n"
      ],
      "text/plain": [
       "[1] 6.155638 6.307372 6.250741"
      ]
     },
     "execution_count": 46,
     "metadata": {},
     "output_type": "execute_result"
    }
   ],
   "source": [
    "SVMTesty <- predict(model,  Test_set)\n",
    "SVMTesty"
   ]
  },
  {
   "cell_type": "code",
   "execution_count": 47,
   "metadata": {
    "collapsed": false
   },
   "outputs": [
    {
     "name": "stderr",
     "output_type": "stream",
     "text": [
      "Warning message:\n",
      "In .local(x, ...): Variable(s) `' constant. Cannot scale data.Warning message:\n",
      "In .local(x, ...): Variable(s) `' constant. Cannot scale data.Warning message:\n",
      "In .local(x, ...): Variable(s) `' constant. Cannot scale data.Warning message:\n",
      "In .local(x, ...): Variable(s) `' constant. Cannot scale data.Warning message:\n",
      "In .local(x, ...): Variable(s) `' constant. Cannot scale data.Warning message:\n",
      "In .local(x, ...): Variable(s) `' constant. Cannot scale data.Warning message:\n",
      "In .local(x, ...): Variable(s) `' constant. Cannot scale data.Warning message:\n",
      "In .local(x, ...): Variable(s) `' constant. Cannot scale data.Warning message:\n",
      "In .local(x, ...): Variable(s) `' constant. Cannot scale data.Warning message:\n",
      "In .local(x, ...): Variable(s) `' constant. Cannot scale data.Warning message:\n",
      "In .local(x, ...): Variable(s) `' constant. Cannot scale data."
     ]
    },
    {
     "name": "stdout",
     "output_type": "stream",
     "text": [
      "Support Vector Machines with Linear Kernel \n",
      "\n",
      "40585 samples\n",
      "  106 predictor\n",
      "\n",
      "No pre-processing\n",
      "Resampling: Cross-Validated (10 fold, repeated 1 times) \n",
      "Summary of sample sizes: 36527, 36527, 36526, 36526, 36526, 36527, ... \n",
      "Resampling results\n",
      "\n",
      "  RMSE     Rsquared    RMSE SD     Rsquared SD\n",
      "  1.10341  0.01910998  0.01331789  0.002600791\n",
      "\n",
      "Tuning parameter 'C' was held constant at a value of 1\n",
      " \n"
     ]
    }
   ],
   "source": [
    "set.seed(204593426)\n",
    "ctrl <- trainControl(method = \"repeatedcv\", number = 10, repeats = 1)\n",
    "\n",
    "model <- train(Rate~., data = Train, method = \"svmLinear\", trControl = ctrl)\n",
    "print(model)"
   ]
  },
  {
   "cell_type": "code",
   "execution_count": 49,
   "metadata": {
    "collapsed": false
   },
   "outputs": [
    {
     "data": {
      "text/html": [
       "<ol class=list-inline>\n",
       "\t<li>6.29956048013006</li>\n",
       "\t<li>6.29956799544263</li>\n",
       "\t<li>6.29957695885939</li>\n",
       "</ol>\n"
      ],
      "text/latex": [
       "\\begin{enumerate*}\n",
       "\\item 6.29956048013006\n",
       "\\item 6.29956799544263\n",
       "\\item 6.29957695885939\n",
       "\\end{enumerate*}\n"
      ],
      "text/markdown": [
       "1. 6.29956048013006\n",
       "2. 6.29956799544263\n",
       "3. 6.29957695885939\n",
       "\n",
       "\n"
      ],
      "text/plain": [
       "[1] 6.299560 6.299568 6.299577"
      ]
     },
     "execution_count": 49,
     "metadata": {},
     "output_type": "execute_result"
    }
   ],
   "source": [
    "SVMLinearTesty <- predict(model,  Test_set)\n",
    "SVMLinearTesty"
   ]
  },
  {
   "cell_type": "code",
   "execution_count": null,
   "metadata": {
    "collapsed": true
   },
   "outputs": [],
   "source": []
  }
 ],
 "metadata": {
  "kernelspec": {
   "display_name": "R",
   "language": "R",
   "name": "ir"
  },
  "language_info": {
   "codemirror_mode": "r",
   "file_extension": ".r",
   "mimetype": "text/x-r-source",
   "name": "R",
   "pygments_lexer": "r",
   "version": "3.2.2"
  }
 },
 "nbformat": 4,
 "nbformat_minor": 0
}
